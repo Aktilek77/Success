{
 "cells": [
  {
   "cell_type": "code",
   "execution_count": 1,
   "metadata": {},
   "outputs": [
    {
     "name": "stdout",
     "output_type": "stream",
     "text": [
      "233168\n",
      "233168\n"
     ]
    }
   ],
   "source": [
    "\n",
    "set3 = set(range(3, 1000, 3))\n",
    "set5 = set(range(5, 1000, 5))\n",
    "\n",
    "sum_values = 0\n",
    "for i in range(0,1000):\n",
    "    if i % 3 == 0 or i%5 == 0:\n",
    "        sum_values = i + sum_values \n",
    "print(sum_values)\n",
    "\n",
    "print(sum(set3 | set5))"
   ]
  },
  {
   "cell_type": "code",
   "execution_count": null,
   "metadata": {},
   "outputs": [],
   "source": [
    "#Functions need to know\n",
    "#enumerate\n",
    "#eval, filter, lambda, map,zip\n",
    "\n"
   ]
  },
  {
   "cell_type": "code",
   "execution_count": 3,
   "metadata": {},
   "outputs": [
    {
     "name": "stdout",
     "output_type": "stream",
     "text": [
      "File '매수종목1.txt' created successfully.\n"
     ]
    }
   ],
   "source": [
    "\n",
    "file_path = \"매수종목1.txt\"\n",
    "\n",
    "try:\n",
    "    with open(file_path, \"x\") as file:\n",
    "        file.write(\"005930 \\n005380 \\n035420\")\n",
    "\n",
    "    print(f\"File '{file_path}' created successfully.\")\n",
    "except FileExistsError:\n",
    "    print(f\"File '{file_path}' already exists. You can choose a different filename or handle this case as needed.\")\n"
   ]
  },
  {
   "cell_type": "code",
   "execution_count": 1,
   "metadata": {},
   "outputs": [
    {
     "name": "stdout",
     "output_type": "stream",
     "text": [
      "10.31\n",
      "clean data\n",
      "변환 완료\n",
      "0\n",
      "변환 완료\n",
      "8.0\n",
      "clean data\n",
      "변환 완료\n"
     ]
    }
   ],
   "source": [
    "per = [\"10.31\", \"\", \"8.00\"]\n",
    "\n",
    "for i in per:\n",
    "    try:\n",
    "        print(float(i))\n",
    "    except:\n",
    "        print(0)\n",
    "    else:\n",
    "        print(\"clean data\")\n",
    "    finally:\n",
    "        print(\"변환 완료\")\n"
   ]
  }
 ],
 "metadata": {
  "kernelspec": {
   "display_name": "base",
   "language": "python",
   "name": "python3"
  },
  "language_info": {
   "codemirror_mode": {
    "name": "ipython",
    "version": 3
   },
   "file_extension": ".py",
   "mimetype": "text/x-python",
   "name": "python",
   "nbconvert_exporter": "python",
   "pygments_lexer": "ipython3",
   "version": "3.11.4"
  },
  "orig_nbformat": 4
 },
 "nbformat": 4,
 "nbformat_minor": 2
}
